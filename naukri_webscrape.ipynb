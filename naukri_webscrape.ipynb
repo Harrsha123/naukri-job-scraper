{
 "cells": [
  {
   "cell_type": "code",
   "execution_count": 1,
   "id": "a0535ec7-b995-4098-8587-0c0bd40bc4aa",
   "metadata": {
    "tags": []
   },
   "outputs": [
    {
     "name": "stdout",
     "output_type": "stream",
     "text": [
      "Requirement already satisfied: selenium in /Users/harsha/anaconda3/lib/python3.11/site-packages (4.35.0)\n",
      "Requirement already satisfied: beautifulsoup4 in /Users/harsha/anaconda3/lib/python3.11/site-packages (4.12.2)\n",
      "Requirement already satisfied: urllib3[socks]<3.0,>=2.5.0 in /Users/harsha/anaconda3/lib/python3.11/site-packages (from selenium) (2.5.0)\n",
      "Requirement already satisfied: trio~=0.30.0 in /Users/harsha/anaconda3/lib/python3.11/site-packages (from selenium) (0.30.0)\n",
      "Requirement already satisfied: trio-websocket~=0.12.2 in /Users/harsha/anaconda3/lib/python3.11/site-packages (from selenium) (0.12.2)\n",
      "Requirement already satisfied: certifi>=2025.6.15 in /Users/harsha/anaconda3/lib/python3.11/site-packages (from selenium) (2025.8.3)\n",
      "Requirement already satisfied: typing_extensions~=4.14.0 in /Users/harsha/anaconda3/lib/python3.11/site-packages (from selenium) (4.14.1)\n",
      "Requirement already satisfied: websocket-client~=1.8.0 in /Users/harsha/anaconda3/lib/python3.11/site-packages (from selenium) (1.8.0)\n",
      "Requirement already satisfied: soupsieve>1.2 in /Users/harsha/anaconda3/lib/python3.11/site-packages (from beautifulsoup4) (2.4)\n",
      "Requirement already satisfied: attrs>=23.2.0 in /Users/harsha/anaconda3/lib/python3.11/site-packages (from trio~=0.30.0->selenium) (25.3.0)\n",
      "Requirement already satisfied: sortedcontainers in /Users/harsha/anaconda3/lib/python3.11/site-packages (from trio~=0.30.0->selenium) (2.4.0)\n",
      "Requirement already satisfied: idna in /Users/harsha/anaconda3/lib/python3.11/site-packages (from trio~=0.30.0->selenium) (3.4)\n",
      "Requirement already satisfied: outcome in /Users/harsha/anaconda3/lib/python3.11/site-packages (from trio~=0.30.0->selenium) (1.3.0.post0)\n",
      "Requirement already satisfied: sniffio>=1.3.0 in /Users/harsha/anaconda3/lib/python3.11/site-packages (from trio~=0.30.0->selenium) (1.3.1)\n",
      "Requirement already satisfied: wsproto>=0.14 in /Users/harsha/anaconda3/lib/python3.11/site-packages (from trio-websocket~=0.12.2->selenium) (1.2.0)\n",
      "Requirement already satisfied: pysocks!=1.5.7,<2.0,>=1.5.6 in /Users/harsha/anaconda3/lib/python3.11/site-packages (from urllib3[socks]<3.0,>=2.5.0->selenium) (1.7.1)\n",
      "Requirement already satisfied: h11<1,>=0.9.0 in /Users/harsha/anaconda3/lib/python3.11/site-packages (from wsproto>=0.14->trio-websocket~=0.12.2->selenium) (0.14.0)\n",
      "zsh:1: command not found: apt-get\n",
      "zsh:1: command not found: apt\n"
     ]
    }
   ],
   "source": [
    "# Package Installation\n",
    "!pip install selenium beautifulsoup4\n",
    "!apt-get update\n",
    "!apt install chromium-chromedriver\n"
   ]
  },
  {
   "cell_type": "code",
   "execution_count": 2,
   "id": "062210cf-55f7-415f-a480-19f1f55d47ee",
   "metadata": {
    "tags": []
   },
   "outputs": [],
   "source": [
    "import selenium\n",
    "import pandas as pd\n",
    "import warnings\n",
    "from selenium import webdriver\n",
    "from selenium.webdriver.chrome.service import Service\n",
    "from selenium.webdriver.chrome.options import Options\n",
    "warnings.filterwarnings('ignore')\n",
    "from selenium.webdriver.common.by import By\n",
    "from selenium.common.exceptions import NoSuchElementException, StaleElementReferenceException\n",
    "import time"
   ]
  },
  {
   "cell_type": "code",
   "execution_count": 3,
   "id": "56d11415-0e84-4dea-ae06-d4d46a6516ef",
   "metadata": {
    "tags": []
   },
   "outputs": [],
   "source": [
    "# Creating User Agent for Chrome\n",
    "\n",
    "chrome_options = Options()\n",
    "chrome_options.add_argument(\"--user-agent=Mozilla/5.0 (Macintosh; Intel Mac OS X 10_15_7) AppleWebKit/537.36 (KHTML, like Gecko) Chrome/116.0.0.0 Safari/537.36\")\n",
    "chrome_options.add_argument(\"--disable-blink-features=AutomationControlled\")\n",
    "\n",
    "driver = webdriver.Chrome(service=Service(\"/usr/local/bin/chromedriver\"), options=chrome_options)\n",
    "\n",
    "driver.get(\"https://www.naukri.com/\")"
   ]
  },
  {
   "cell_type": "code",
   "execution_count": 4,
   "id": "210382a1-8c71-44bc-a518-98b13998c91a",
   "metadata": {
    "tags": []
   },
   "outputs": [],
   "source": [
    "designation = driver.find_element(By.CLASS_NAME,'suggestor-input')\n",
    "designation.send_keys('Data Analyst')\n",
    "                                  "
   ]
  },
  {
   "cell_type": "code",
   "execution_count": 5,
   "id": "a5587ff3-6ee6-431f-927d-a32a106d5045",
   "metadata": {
    "tags": []
   },
   "outputs": [],
   "source": [
    "location = driver.find_element(By.XPATH, '//*[@id=\"root\"]/div[7]/div/div/div[5]/div/div/div/div[1]/div/input')\n",
    "location.send_keys(\"Bangalore\")"
   ]
  },
  {
   "cell_type": "code",
   "execution_count": 6,
   "id": "3375ee64-d785-4028-8b38-238a1eb981ac",
   "metadata": {
    "tags": []
   },
   "outputs": [],
   "source": [
    "search = driver.find_element(By.CLASS_NAME,\"qsbSubmit\")\n",
    "search.click()"
   ]
  },
  {
   "cell_type": "code",
   "execution_count": 7,
   "id": "7c2ab06b-68f2-4b79-b92f-d0ae58c39ec5",
   "metadata": {
    "tags": []
   },
   "outputs": [],
   "source": [
    "job_titles=[]\n",
    "company_names=[]\n",
    "description=[]\n",
    "location=[]\n",
    "experience=[]\n",
    "posted_day=[]"
   ]
  },
  {
   "cell_type": "code",
   "execution_count": 8,
   "id": "d810ab9b-f3e3-4888-93c5-8598d96abd31",
   "metadata": {
    "tags": []
   },
   "outputs": [
    {
     "data": {
      "text/plain": [
       "['Data Analyst',\n",
       " 'Data Analyst',\n",
       " 'Data Analyst',\n",
       " 'Data Analyst',\n",
       " 'S&C GN - Data&AI - Resources - Analyst',\n",
       " 'Data Analyst - pan India',\n",
       " 'Lenovo - Data Analyst, Bengaluru',\n",
       " 'Data Analyst - L3',\n",
       " 'Data Analyst',\n",
       " 'Data Analyst - YouAppi',\n",
       " 'Hiring Data Analyst I Naukri.com I Infoedge I Bangalore Location',\n",
       " 'Data Analyst',\n",
       " 'Environment & Social Governance Data Analyst',\n",
       " 'Client Data Analyst',\n",
       " 'Online Data Analyst Odia Language',\n",
       " 'Data Analyst',\n",
       " 'Data Analyst',\n",
       " 'Data Analyst',\n",
       " 'Data Analyst',\n",
       " 'Data Analyst']"
      ]
     },
     "execution_count": 8,
     "metadata": {},
     "output_type": "execute_result"
    }
   ],
   "source": [
    "\n",
    "title_tags = driver.find_elements(By.XPATH, '//a[contains(@class,\"title\")]')\n",
    "\n",
    "for i in title_tags:\n",
    "    title = i.text\n",
    "    job_titles.append(title)\n",
    "\n",
    "job_titles = job_titles[:20]\n",
    "job_titles\n",
    "\n"
   ]
  },
  {
   "cell_type": "code",
   "execution_count": 9,
   "id": "7c1d6a75-d150-4c84-b4c4-c960bd2d9eae",
   "metadata": {
    "tags": []
   },
   "outputs": [
    {
     "data": {
      "text/plain": [
       "['Bengaluru',\n",
       " 'Bengaluru',\n",
       " 'Hyderabad, Gurugram, Bengaluru',\n",
       " 'Bengaluru',\n",
       " 'Bengaluru',\n",
       " 'Bengaluru',\n",
       " 'Hybrid - Hyderabad, Chennai, Bengaluru',\n",
       " 'Hybrid - Bengaluru',\n",
       " 'Hybrid - Bengaluru(Jigani)',\n",
       " 'Bengaluru',\n",
       " 'Hyderabad, Chennai, Bengaluru',\n",
       " 'Gurugram, Bengaluru',\n",
       " 'Bangalore Rural, Bengaluru',\n",
       " 'Bengaluru',\n",
       " 'Bengaluru',\n",
       " 'Bengaluru',\n",
       " 'Kolkata, Mumbai, New Delhi, Hyderabad, Pune, Chennai, Bengaluru',\n",
       " 'Bengaluru',\n",
       " 'Bengaluru',\n",
       " 'Bengaluru']"
      ]
     },
     "execution_count": 9,
     "metadata": {},
     "output_type": "execute_result"
    }
   ],
   "source": [
    "loc_tags = driver.find_elements(By.XPATH, '//span[contains(@class,\"location\")]')\n",
    "\n",
    "for i in loc_tags:\n",
    "    loc = i.text\n",
    "    location.append(loc)\n",
    "    \n",
    "location = location[:20]\n",
    "location"
   ]
  },
  {
   "cell_type": "code",
   "execution_count": 10,
   "id": "76bcaae2-121b-47d2-b8d4-e55c34cc30ac",
   "metadata": {
    "tags": []
   },
   "outputs": [
    {
     "data": {
      "text/plain": [
       "['Capgemini',\n",
       " 'Product based company',\n",
       " 'S&P Global Market Intelligence',\n",
       " 'ABB',\n",
       " 'Accenture',\n",
       " 'Infosys',\n",
       " 'Lenovo',\n",
       " 'Wipro',\n",
       " 'Mirafra',\n",
       " 'Affle',\n",
       " 'Info Edge',\n",
       " 'BNP Paribas',\n",
       " 'Hsbc',\n",
       " 'JPMorgan Chase Bank',\n",
       " 'TELUS Digital AI Data Solutions',\n",
       " 'Red Hat',\n",
       " 'K12 Techno Services',\n",
       " 'Flipkart',\n",
       " 'Airbus',\n",
       " 'Clairvoyant India']"
      ]
     },
     "execution_count": 10,
     "metadata": {},
     "output_type": "execute_result"
    }
   ],
   "source": [
    "company_tags = driver.find_elements(By.XPATH, '//a[contains(@class,\"comp-name\")]')\n",
    "\n",
    "for i in company_tags:\n",
    "    comp = i.text\n",
    "    company_names.append(comp)\n",
    "    \n",
    "company_names = company_names[:20]\n",
    "company_names"
   ]
  },
  {
   "cell_type": "code",
   "execution_count": 11,
   "id": "6c02d5e9-fc20-4eaf-9efc-d48c561d864d",
   "metadata": {
    "tags": []
   },
   "outputs": [
    {
     "data": {
      "text/plain": [
       "['Proficient in database object creation including tables, views, indexes etcExperience w...',\n",
       " '. Sr. Data Analyst, Job Responsibilities: Proficient in writing complex SQL queries for...',\n",
       " 'Excellent communication, time-management, and multi-tasking skills. Proficient in secon...',\n",
       " 'Proficient analytical and problem-solving skills with the ability to derive meaningful ...',\n",
       " 'About The Role TBD Qualification TBD',\n",
       " 'Experience Range: 5 to 18 years.',\n",
       " 'Experience: 5 + Yrs, Machine learning :1+yr, Analytics: 3 + Yrs',\n",
       " 'Design and carry out surveys and analyze survey data as per the customer requirement D...',\n",
       " 'Looking to onboard skilled Data Analysts with 2 to 5 years of experience to join our te...',\n",
       " 'Experience with handling large volumes of data in the cloud from different sources like...',\n",
       " 'Urgent Hiring Data Analyst I Naukri.com I Bangalore Location Extract data from various...',\n",
       " 'Analysis / Problem solving Very good with analytical and problem solving skills, should...',\n",
       " 'Practical experience with SQL databases and cloud warehouse technologies such as BigQue...',\n",
       " 'Enables thought leadership and a team who are risk aware, empowered, and feel accoun...',\n",
       " 'This is a part-time long-term project and your work will be subject to our standard qua...',\n",
       " 'Solid understanding of data quality concepts, validation techniques, and structured rep...',\n",
       " 'Requirements: . 4 6 years of experience in Supply Chain Analytics, Inventory Planning, ...',\n",
       " 'Hi, Looking for a smart data analyst who utilizes advanced analytical methods, includi...',\n",
       " 'Engineer - Methods & Tools (Data Analyst)About The Team:Methods & Tools is a transvers...',\n",
       " 'Required Skills & Qualifications 2-4 years of hands-on experience as a data analyst, p...']"
      ]
     },
     "execution_count": 11,
     "metadata": {},
     "output_type": "execute_result"
    }
   ],
   "source": [
    "desc_tags = driver.find_elements(By.XPATH, '//span[contains(@class,\"job-desc\")]')\n",
    "\n",
    "for i in desc_tags:\n",
    "    desc = i.text\n",
    "    description.append(desc)\n",
    "    \n",
    "description = description[:20]\n",
    "description"
   ]
  },
  {
   "cell_type": "code",
   "execution_count": 12,
   "id": "5b27767f-3fca-472d-8633-1a1c28394be3",
   "metadata": {
    "tags": []
   },
   "outputs": [
    {
     "data": {
      "text/plain": [
       "['0 Yrs',\n",
       " '8-13 Yrs',\n",
       " '3-5 Yrs',\n",
       " '4-9 Yrs',\n",
       " '4-8 Yrs',\n",
       " '6-11 Yrs',\n",
       " '4-7 Yrs',\n",
       " '4-8 Yrs',\n",
       " '2-6 Yrs',\n",
       " '2-5 Yrs',\n",
       " '1-3 Yrs',\n",
       " '7-9 Yrs',\n",
       " '1-5 Yrs',\n",
       " '0-5 Yrs',\n",
       " '0-3 Yrs',\n",
       " '2-4 Yrs',\n",
       " '4-6 Yrs',\n",
       " '7-12 Yrs',\n",
       " '4-6 Yrs',\n",
       " '2-4 Yrs']"
      ]
     },
     "execution_count": 12,
     "metadata": {},
     "output_type": "execute_result"
    }
   ],
   "source": [
    "exp_tags = driver.find_elements(By.XPATH, '//span[contains(@class,\"expwdth\")]')\n",
    "\n",
    "for i in exp_tags:\n",
    "    exp = i.text\n",
    "    experience.append(exp)\n",
    "    \n",
    "experience = experience[:20]\n",
    "experience"
   ]
  },
  {
   "cell_type": "code",
   "execution_count": 14,
   "id": "af68f811-34d0-450c-860d-ced1b8db4bfd",
   "metadata": {
    "tags": []
   },
   "outputs": [
    {
     "data": {
      "text/plain": [
       "['3 weeks ago',\n",
       " '3 weeks ago',\n",
       " '1 day ago',\n",
       " '2 weeks ago',\n",
       " '1 day ago',\n",
       " '1 week ago',\n",
       " 'Today',\n",
       " '6 days ago',\n",
       " '2 weeks ago',\n",
       " '3+ weeks ago',\n",
       " '6 days ago',\n",
       " '2 weeks ago',\n",
       " 'Today',\n",
       " '2 weeks ago',\n",
       " '1 day ago',\n",
       " '2 weeks ago',\n",
       " '1 week ago',\n",
       " '6 days ago',\n",
       " '1 week ago',\n",
       " '1 week ago']"
      ]
     },
     "execution_count": 14,
     "metadata": {},
     "output_type": "execute_result"
    }
   ],
   "source": [
    "posted_tags = driver.find_elements(By.XPATH, '//span[contains(@class,\"job-post-day\")]')\n",
    "\n",
    "for i in posted_tags:\n",
    "    post = i.text\n",
    "    posted_day.append(post)\n",
    "    \n",
    "posted_day = posted_day[:20]\n",
    "posted_day"
   ]
  },
  {
   "cell_type": "code",
   "execution_count": 15,
   "id": "5bcfd03d-796c-4421-9636-0a5b056a43a8",
   "metadata": {
    "tags": []
   },
   "outputs": [],
   "source": [
    "df = pd.DataFrame({\"Job Title\": job_titles,\"Company Name\": company_names, \"Job Location\": location, \"Experience Required\": experience, \"Job Description\": description, \"Posted Time\": posted_day})"
   ]
  },
  {
   "cell_type": "code",
   "execution_count": 16,
   "id": "eb4ace30-ffd0-4165-b7bd-06b38d4ae079",
   "metadata": {
    "tags": []
   },
   "outputs": [
    {
     "data": {
      "text/html": [
       "<div>\n",
       "<style scoped>\n",
       "    .dataframe tbody tr th:only-of-type {\n",
       "        vertical-align: middle;\n",
       "    }\n",
       "\n",
       "    .dataframe tbody tr th {\n",
       "        vertical-align: top;\n",
       "    }\n",
       "\n",
       "    .dataframe thead th {\n",
       "        text-align: right;\n",
       "    }\n",
       "</style>\n",
       "<table border=\"1\" class=\"dataframe\">\n",
       "  <thead>\n",
       "    <tr style=\"text-align: right;\">\n",
       "      <th></th>\n",
       "      <th>Job Title</th>\n",
       "      <th>Company Name</th>\n",
       "      <th>Job Location</th>\n",
       "      <th>Experience Required</th>\n",
       "      <th>Job Description</th>\n",
       "      <th>Posted Time</th>\n",
       "    </tr>\n",
       "  </thead>\n",
       "  <tbody>\n",
       "    <tr>\n",
       "      <th>0</th>\n",
       "      <td>Data Analyst</td>\n",
       "      <td>Capgemini</td>\n",
       "      <td>Bengaluru</td>\n",
       "      <td>0 Yrs</td>\n",
       "      <td>Proficient in database object creation includi...</td>\n",
       "      <td>3 weeks ago</td>\n",
       "    </tr>\n",
       "    <tr>\n",
       "      <th>1</th>\n",
       "      <td>Data Analyst</td>\n",
       "      <td>Product based company</td>\n",
       "      <td>Bengaluru</td>\n",
       "      <td>8-13 Yrs</td>\n",
       "      <td>. Sr. Data Analyst, Job Responsibilities: Prof...</td>\n",
       "      <td>3 weeks ago</td>\n",
       "    </tr>\n",
       "    <tr>\n",
       "      <th>2</th>\n",
       "      <td>Data Analyst</td>\n",
       "      <td>S&amp;P Global Market Intelligence</td>\n",
       "      <td>Hyderabad, Gurugram, Bengaluru</td>\n",
       "      <td>3-5 Yrs</td>\n",
       "      <td>Excellent communication, time-management, and ...</td>\n",
       "      <td>1 day ago</td>\n",
       "    </tr>\n",
       "    <tr>\n",
       "      <th>3</th>\n",
       "      <td>Data Analyst</td>\n",
       "      <td>ABB</td>\n",
       "      <td>Bengaluru</td>\n",
       "      <td>4-9 Yrs</td>\n",
       "      <td>Proficient analytical and problem-solving skil...</td>\n",
       "      <td>2 weeks ago</td>\n",
       "    </tr>\n",
       "    <tr>\n",
       "      <th>4</th>\n",
       "      <td>S&amp;C GN - Data&amp;AI - Resources - Analyst</td>\n",
       "      <td>Accenture</td>\n",
       "      <td>Bengaluru</td>\n",
       "      <td>4-8 Yrs</td>\n",
       "      <td>About The Role TBD Qualification TBD</td>\n",
       "      <td>1 day ago</td>\n",
       "    </tr>\n",
       "    <tr>\n",
       "      <th>5</th>\n",
       "      <td>Data Analyst - pan India</td>\n",
       "      <td>Infosys</td>\n",
       "      <td>Bengaluru</td>\n",
       "      <td>6-11 Yrs</td>\n",
       "      <td>Experience Range: 5 to 18 years.</td>\n",
       "      <td>1 week ago</td>\n",
       "    </tr>\n",
       "    <tr>\n",
       "      <th>6</th>\n",
       "      <td>Lenovo - Data Analyst, Bengaluru</td>\n",
       "      <td>Lenovo</td>\n",
       "      <td>Hybrid - Hyderabad, Chennai, Bengaluru</td>\n",
       "      <td>4-7 Yrs</td>\n",
       "      <td>Experience: 5 + Yrs, Machine learning :1+yr, A...</td>\n",
       "      <td>Today</td>\n",
       "    </tr>\n",
       "    <tr>\n",
       "      <th>7</th>\n",
       "      <td>Data Analyst - L3</td>\n",
       "      <td>Wipro</td>\n",
       "      <td>Hybrid - Bengaluru</td>\n",
       "      <td>4-8 Yrs</td>\n",
       "      <td>Design and carry out surveys and analyze surve...</td>\n",
       "      <td>6 days ago</td>\n",
       "    </tr>\n",
       "    <tr>\n",
       "      <th>8</th>\n",
       "      <td>Data Analyst</td>\n",
       "      <td>Mirafra</td>\n",
       "      <td>Hybrid - Bengaluru(Jigani)</td>\n",
       "      <td>2-6 Yrs</td>\n",
       "      <td>Looking to onboard skilled Data Analysts with ...</td>\n",
       "      <td>2 weeks ago</td>\n",
       "    </tr>\n",
       "    <tr>\n",
       "      <th>9</th>\n",
       "      <td>Data Analyst - YouAppi</td>\n",
       "      <td>Affle</td>\n",
       "      <td>Bengaluru</td>\n",
       "      <td>2-5 Yrs</td>\n",
       "      <td>Experience with handling large volumes of data...</td>\n",
       "      <td>3+ weeks ago</td>\n",
       "    </tr>\n",
       "    <tr>\n",
       "      <th>10</th>\n",
       "      <td>Hiring Data Analyst I Naukri.com I Infoedge I ...</td>\n",
       "      <td>Info Edge</td>\n",
       "      <td>Hyderabad, Chennai, Bengaluru</td>\n",
       "      <td>1-3 Yrs</td>\n",
       "      <td>Urgent Hiring Data Analyst I Naukri.com I Bang...</td>\n",
       "      <td>6 days ago</td>\n",
       "    </tr>\n",
       "    <tr>\n",
       "      <th>11</th>\n",
       "      <td>Data Analyst</td>\n",
       "      <td>BNP Paribas</td>\n",
       "      <td>Gurugram, Bengaluru</td>\n",
       "      <td>7-9 Yrs</td>\n",
       "      <td>Analysis / Problem solving Very good with anal...</td>\n",
       "      <td>2 weeks ago</td>\n",
       "    </tr>\n",
       "    <tr>\n",
       "      <th>12</th>\n",
       "      <td>Environment &amp; Social Governance Data Analyst</td>\n",
       "      <td>Hsbc</td>\n",
       "      <td>Bangalore Rural, Bengaluru</td>\n",
       "      <td>1-5 Yrs</td>\n",
       "      <td>Practical experience with SQL databases and cl...</td>\n",
       "      <td>Today</td>\n",
       "    </tr>\n",
       "    <tr>\n",
       "      <th>13</th>\n",
       "      <td>Client Data Analyst</td>\n",
       "      <td>JPMorgan Chase Bank</td>\n",
       "      <td>Bengaluru</td>\n",
       "      <td>0-5 Yrs</td>\n",
       "      <td>Enables thought leadership and a team who are ...</td>\n",
       "      <td>2 weeks ago</td>\n",
       "    </tr>\n",
       "    <tr>\n",
       "      <th>14</th>\n",
       "      <td>Online Data Analyst Odia Language</td>\n",
       "      <td>TELUS Digital AI Data Solutions</td>\n",
       "      <td>Bengaluru</td>\n",
       "      <td>0-3 Yrs</td>\n",
       "      <td>This is a part-time long-term project and your...</td>\n",
       "      <td>1 day ago</td>\n",
       "    </tr>\n",
       "    <tr>\n",
       "      <th>15</th>\n",
       "      <td>Data Analyst</td>\n",
       "      <td>Red Hat</td>\n",
       "      <td>Bengaluru</td>\n",
       "      <td>2-4 Yrs</td>\n",
       "      <td>Solid understanding of data quality concepts, ...</td>\n",
       "      <td>2 weeks ago</td>\n",
       "    </tr>\n",
       "    <tr>\n",
       "      <th>16</th>\n",
       "      <td>Data Analyst</td>\n",
       "      <td>K12 Techno Services</td>\n",
       "      <td>Kolkata, Mumbai, New Delhi, Hyderabad, Pune, C...</td>\n",
       "      <td>4-6 Yrs</td>\n",
       "      <td>Requirements: . 4 6 years of experience in Sup...</td>\n",
       "      <td>1 week ago</td>\n",
       "    </tr>\n",
       "    <tr>\n",
       "      <th>17</th>\n",
       "      <td>Data Analyst</td>\n",
       "      <td>Flipkart</td>\n",
       "      <td>Bengaluru</td>\n",
       "      <td>7-12 Yrs</td>\n",
       "      <td>Hi, Looking for a smart data analyst who utili...</td>\n",
       "      <td>6 days ago</td>\n",
       "    </tr>\n",
       "    <tr>\n",
       "      <th>18</th>\n",
       "      <td>Data Analyst</td>\n",
       "      <td>Airbus</td>\n",
       "      <td>Bengaluru</td>\n",
       "      <td>4-6 Yrs</td>\n",
       "      <td>Engineer - Methods &amp; Tools (Data Analyst)About...</td>\n",
       "      <td>1 week ago</td>\n",
       "    </tr>\n",
       "    <tr>\n",
       "      <th>19</th>\n",
       "      <td>Data Analyst</td>\n",
       "      <td>Clairvoyant India</td>\n",
       "      <td>Bengaluru</td>\n",
       "      <td>2-4 Yrs</td>\n",
       "      <td>Required Skills &amp; Qualifications 2-4 years of ...</td>\n",
       "      <td>1 week ago</td>\n",
       "    </tr>\n",
       "  </tbody>\n",
       "</table>\n",
       "</div>"
      ],
      "text/plain": [
       "                                            Job Title  \\\n",
       "0                                        Data Analyst   \n",
       "1                                        Data Analyst   \n",
       "2                                        Data Analyst   \n",
       "3                                        Data Analyst   \n",
       "4              S&C GN - Data&AI - Resources - Analyst   \n",
       "5                            Data Analyst - pan India   \n",
       "6                    Lenovo - Data Analyst, Bengaluru   \n",
       "7                                   Data Analyst - L3   \n",
       "8                                        Data Analyst   \n",
       "9                              Data Analyst - YouAppi   \n",
       "10  Hiring Data Analyst I Naukri.com I Infoedge I ...   \n",
       "11                                       Data Analyst   \n",
       "12       Environment & Social Governance Data Analyst   \n",
       "13                                Client Data Analyst   \n",
       "14                  Online Data Analyst Odia Language   \n",
       "15                                       Data Analyst   \n",
       "16                                       Data Analyst   \n",
       "17                                       Data Analyst   \n",
       "18                                       Data Analyst   \n",
       "19                                       Data Analyst   \n",
       "\n",
       "                       Company Name  \\\n",
       "0                         Capgemini   \n",
       "1             Product based company   \n",
       "2    S&P Global Market Intelligence   \n",
       "3                               ABB   \n",
       "4                         Accenture   \n",
       "5                           Infosys   \n",
       "6                            Lenovo   \n",
       "7                             Wipro   \n",
       "8                           Mirafra   \n",
       "9                             Affle   \n",
       "10                        Info Edge   \n",
       "11                      BNP Paribas   \n",
       "12                             Hsbc   \n",
       "13              JPMorgan Chase Bank   \n",
       "14  TELUS Digital AI Data Solutions   \n",
       "15                          Red Hat   \n",
       "16              K12 Techno Services   \n",
       "17                         Flipkart   \n",
       "18                           Airbus   \n",
       "19                Clairvoyant India   \n",
       "\n",
       "                                         Job Location Experience Required  \\\n",
       "0                                           Bengaluru               0 Yrs   \n",
       "1                                           Bengaluru            8-13 Yrs   \n",
       "2                      Hyderabad, Gurugram, Bengaluru             3-5 Yrs   \n",
       "3                                           Bengaluru             4-9 Yrs   \n",
       "4                                           Bengaluru             4-8 Yrs   \n",
       "5                                           Bengaluru            6-11 Yrs   \n",
       "6              Hybrid - Hyderabad, Chennai, Bengaluru             4-7 Yrs   \n",
       "7                                  Hybrid - Bengaluru             4-8 Yrs   \n",
       "8                          Hybrid - Bengaluru(Jigani)             2-6 Yrs   \n",
       "9                                           Bengaluru             2-5 Yrs   \n",
       "10                      Hyderabad, Chennai, Bengaluru             1-3 Yrs   \n",
       "11                                Gurugram, Bengaluru             7-9 Yrs   \n",
       "12                         Bangalore Rural, Bengaluru             1-5 Yrs   \n",
       "13                                          Bengaluru             0-5 Yrs   \n",
       "14                                          Bengaluru             0-3 Yrs   \n",
       "15                                          Bengaluru             2-4 Yrs   \n",
       "16  Kolkata, Mumbai, New Delhi, Hyderabad, Pune, C...             4-6 Yrs   \n",
       "17                                          Bengaluru            7-12 Yrs   \n",
       "18                                          Bengaluru             4-6 Yrs   \n",
       "19                                          Bengaluru             2-4 Yrs   \n",
       "\n",
       "                                      Job Description   Posted Time  \n",
       "0   Proficient in database object creation includi...   3 weeks ago  \n",
       "1   . Sr. Data Analyst, Job Responsibilities: Prof...   3 weeks ago  \n",
       "2   Excellent communication, time-management, and ...     1 day ago  \n",
       "3   Proficient analytical and problem-solving skil...   2 weeks ago  \n",
       "4                About The Role TBD Qualification TBD     1 day ago  \n",
       "5                    Experience Range: 5 to 18 years.    1 week ago  \n",
       "6   Experience: 5 + Yrs, Machine learning :1+yr, A...         Today  \n",
       "7   Design and carry out surveys and analyze surve...    6 days ago  \n",
       "8   Looking to onboard skilled Data Analysts with ...   2 weeks ago  \n",
       "9   Experience with handling large volumes of data...  3+ weeks ago  \n",
       "10  Urgent Hiring Data Analyst I Naukri.com I Bang...    6 days ago  \n",
       "11  Analysis / Problem solving Very good with anal...   2 weeks ago  \n",
       "12  Practical experience with SQL databases and cl...         Today  \n",
       "13  Enables thought leadership and a team who are ...   2 weeks ago  \n",
       "14  This is a part-time long-term project and your...     1 day ago  \n",
       "15  Solid understanding of data quality concepts, ...   2 weeks ago  \n",
       "16  Requirements: . 4 6 years of experience in Sup...    1 week ago  \n",
       "17  Hi, Looking for a smart data analyst who utili...    6 days ago  \n",
       "18  Engineer - Methods & Tools (Data Analyst)About...    1 week ago  \n",
       "19  Required Skills & Qualifications 2-4 years of ...    1 week ago  "
      ]
     },
     "execution_count": 16,
     "metadata": {},
     "output_type": "execute_result"
    }
   ],
   "source": [
    "df"
   ]
  },
  {
   "cell_type": "code",
   "execution_count": null,
   "id": "712ca09c-2f46-4228-8569-15054d49dde9",
   "metadata": {},
   "outputs": [],
   "source": []
  }
 ],
 "metadata": {
  "kernelspec": {
   "display_name": "Python 3 (ipykernel)",
   "language": "python",
   "name": "python3"
  },
  "language_info": {
   "codemirror_mode": {
    "name": "ipython",
    "version": 3
   },
   "file_extension": ".py",
   "mimetype": "text/x-python",
   "name": "python",
   "nbconvert_exporter": "python",
   "pygments_lexer": "ipython3",
   "version": "3.11.4"
  },
  "vscode": {
   "interpreter": {
    "hash": "2fc16f54efc48facfd8680dc4dcc67808f7a7ed700c74caaadf19ba434d7a526"
   }
  }
 },
 "nbformat": 4,
 "nbformat_minor": 5
}
